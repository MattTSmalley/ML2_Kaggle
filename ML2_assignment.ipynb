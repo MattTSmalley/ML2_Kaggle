{
 "cells": [
  {
   "cell_type": "code",
   "execution_count": 22,
   "metadata": {},
   "outputs": [],
   "source": [
    "import numpy as np\n",
    "import pandas as pd\n",
    "import matplotlib.pyplot as plt\n",
    "import os\n",
    "\n",
    "from keras.utils import to_categorical\n",
    "from keras.preprocessing.text import Tokenizer\n",
    "from keras.preprocessing.sequence import pad_sequences\n",
    "from keras.layers import Dense,Dropout\n",
    "from keras.models import Sequential\n",
    "from keras.callbacks import EarlyStopping,ModelCheckpoint\n",
    "\n",
    "from sklearn.model_selection import train_test_split"
   ]
  },
  {
   "cell_type": "code",
   "execution_count": 23,
   "metadata": {},
   "outputs": [],
   "source": [
    "train_df=pd.read_json('train.json')\n",
    "test_df=pd.read_json('test.json')"
   ]
  },
  {
   "cell_type": "code",
   "execution_count": 24,
   "metadata": {},
   "outputs": [],
   "source": [
    "target=train_df['cuisine']\n",
    "train=train_df.drop('cuisine',axis=1)\n",
    "test=test_df"
   ]
  },
  {
   "cell_type": "code",
   "execution_count": 25,
   "metadata": {},
   "outputs": [],
   "source": [
    "t=Tokenizer()\n",
    "t.fit_on_texts(train['ingredients'])\n",
    "train_encoded=t.texts_to_matrix(train['ingredients'],mode='tfidf')"
   ]
  },
  {
   "cell_type": "code",
   "execution_count": 26,
   "metadata": {},
   "outputs": [],
   "source": [
    "cuisines=train_df['cuisine'].unique()\n",
    "label2index={cuisine:i for i,cuisine in enumerate(cuisines)}\n",
    "y=[]\n",
    "\n",
    "for item in target:\n",
    "    if item in label2index.keys():\n",
    "        y.append(label2index[item])\n",
    "y_encoded=to_categorical(y,20)"
   ]
  },
  {
   "cell_type": "code",
   "execution_count": 27,
   "metadata": {},
   "outputs": [
    {
     "name": "stdout",
     "output_type": "stream",
     "text": [
      "(29774, 6189)\n",
      "(29774, 20)\n"
     ]
    }
   ],
   "source": [
    "print(train_encoded.shape)\n",
    "print(y_encoded.shape)"
   ]
  },
  {
   "cell_type": "code",
   "execution_count": 28,
   "metadata": {},
   "outputs": [],
   "source": [
    "def build_model():\n",
    "    model=Sequential()\n",
    "    model.add(Dense(256,input_shape=[train_encoded.shape[1], ],activation='relu',name='hidden_1'))\n",
    "    model.add(Dropout(0.4, name='dropout_1'))  \n",
    "    model.add(Dense(20,name='output'))\n",
    "    model.compile(optimizer='adam',\n",
    "                  loss='categorical_hinge',\n",
    "                  metrics=['accuracy'])\n",
    "    return model"
   ]
  },
  {
   "cell_type": "code",
   "execution_count": 29,
   "metadata": {},
   "outputs": [],
   "source": [
    "X_train,X_val,y_train,y_val=train_test_split(train_encoded,y_encoded,test_size=0.2,random_state=22)"
   ]
  },
  {
   "cell_type": "code",
   "execution_count": 30,
   "metadata": {},
   "outputs": [],
   "source": [
    "model=build_model()"
   ]
  },
  {
   "cell_type": "code",
   "execution_count": 32,
   "metadata": {},
   "outputs": [
    {
     "name": "stdout",
     "output_type": "stream",
     "text": [
      "Train on 23819 samples, validate on 5955 samples\n",
      "Epoch 1/6\n",
      "23819/23819 [==============================] - 12s 487us/step - loss: 0.1045 - acc: 0.9628 - val_loss: 0.5918 - val_acc: 0.7715\n",
      "Epoch 2/6\n",
      "23819/23819 [==============================] - 12s 486us/step - loss: 0.0922 - acc: 0.9684 - val_loss: 0.6024 - val_acc: 0.7730\n",
      "Epoch 3/6\n",
      "23819/23819 [==============================] - 11s 482us/step - loss: 0.0787 - acc: 0.9740 - val_loss: 0.6181 - val_acc: 0.7715\n",
      "Epoch 4/6\n",
      "23819/23819 [==============================] - 12s 492us/step - loss: 0.0731 - acc: 0.9760 - val_loss: 0.6311 - val_acc: 0.7703\n",
      "Epoch 5/6\n",
      "23819/23819 [==============================] - 12s 503us/step - loss: 0.0639 - acc: 0.9791 - val_loss: 0.6388 - val_acc: 0.7699\n",
      "Epoch 6/6\n",
      "23819/23819 [==============================] - 12s 506us/step - loss: 0.0606 - acc: 0.9812 - val_loss: 0.6571 - val_acc: 0.7668\n",
      "Epoch 00006: early stopping\n"
     ]
    },
    {
     "data": {
      "text/plain": [
       "<keras.callbacks.History at 0x18b380d4828>"
      ]
     },
     "execution_count": 32,
     "metadata": {},
     "output_type": "execute_result"
    }
   ],
   "source": [
    "monitor=[\n",
    "    EarlyStopping(monitor='val_loss',patience=5,verbose=1),\n",
    "    ModelCheckpoint('best-model-0.h5',monitor='val_loss',save_best_only=True,save_weights_only=True)\n",
    "]\n",
    "\n",
    "model.fit(X_train,y_train,\n",
    "         validation_data=(X_val,y_val),\n",
    "         epochs=6,\n",
    "         callbacks=monitor,\n",
    "         batch_size=128)"
   ]
  },
  {
   "cell_type": "code",
   "execution_count": 33,
   "metadata": {},
   "outputs": [],
   "source": [
    "test_encoded=t.texts_to_matrix(test_df['ingredients'],mode='tfidf')"
   ]
  },
  {
   "cell_type": "code",
   "execution_count": 34,
   "metadata": {},
   "outputs": [
    {
     "data": {
      "text/plain": [
       "['korean',\n",
       " 'italian',\n",
       " 'italian',\n",
       " 'filipino',\n",
       " 'italian',\n",
       " 'cajun_creole',\n",
       " 'italian',\n",
       " 'thai',\n",
       " 'chinese',\n",
       " 'southern_us']"
      ]
     },
     "execution_count": 34,
     "metadata": {},
     "output_type": "execute_result"
    }
   ],
   "source": [
    "model.load_weights('best-model-0.h5')\n",
    "y_pred=model.predict(test_encoded).argmax(axis=1)\n",
    "\n",
    "results=[]\n",
    "\n",
    "for i in y_pred:\n",
    "    for k,v in label2index.items():\n",
    "        if v==i:\n",
    "            results.append(k)\n",
    "\n",
    "results[:10]"
   ]
  },
  {
   "cell_type": "code",
   "execution_count": 35,
   "metadata": {},
   "outputs": [],
   "source": [
    "submission=pd.DataFrame(list(zip(test_df['id'],results)),columns=['id','cuisine'])\n",
    "submission.to_csv('submission.csv',header=True,index=False)"
   ]
  }
 ],
 "metadata": {
  "kernelspec": {
   "display_name": "Python 3",
   "language": "python",
   "name": "python3"
  },
  "language_info": {
   "codemirror_mode": {
    "name": "ipython",
    "version": 3
   },
   "file_extension": ".py",
   "mimetype": "text/x-python",
   "name": "python",
   "nbconvert_exporter": "python",
   "pygments_lexer": "ipython3",
   "version": "3.6.8"
  }
 },
 "nbformat": 4,
 "nbformat_minor": 2
}
